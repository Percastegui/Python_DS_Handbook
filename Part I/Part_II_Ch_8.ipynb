{
 "cells": [
  {
   "cell_type": "code",
   "execution_count": 1,
   "id": "39ee7846",
   "metadata": {},
   "outputs": [
    {
     "data": {
      "text/plain": [
       "array([5, 6, 7])"
      ]
     },
     "execution_count": 1,
     "metadata": {},
     "output_type": "execute_result"
    }
   ],
   "source": [
    "import numpy as np\n",
    "\n",
    "a = np.array([0, 1, 2])\n",
    "b = np.array([5, 5, 5])\n",
    "\n",
    "a + b "
   ]
  },
  {
   "cell_type": "code",
   "execution_count": 2,
   "id": "e9e0b521",
   "metadata": {},
   "outputs": [
    {
     "data": {
      "text/plain": [
       "array([5, 6, 7])"
      ]
     },
     "execution_count": 2,
     "metadata": {},
     "output_type": "execute_result"
    }
   ],
   "source": [
    "a + 5"
   ]
  },
  {
   "cell_type": "code",
   "execution_count": 3,
   "id": "9d56cf21",
   "metadata": {},
   "outputs": [
    {
     "data": {
      "text/plain": [
       "array([[1., 1., 1.],\n",
       "       [1., 1., 1.],\n",
       "       [1., 1., 1.]])"
      ]
     },
     "execution_count": 3,
     "metadata": {},
     "output_type": "execute_result"
    }
   ],
   "source": [
    "M = np.ones((3, 3))\n",
    "M"
   ]
  },
  {
   "cell_type": "code",
   "execution_count": 4,
   "id": "aea9e1ac",
   "metadata": {},
   "outputs": [
    {
     "data": {
      "text/plain": [
       "array([[1., 2., 3.],\n",
       "       [1., 2., 3.],\n",
       "       [1., 2., 3.]])"
      ]
     },
     "execution_count": 4,
     "metadata": {},
     "output_type": "execute_result"
    }
   ],
   "source": [
    "M + a"
   ]
  },
  {
   "cell_type": "code",
   "execution_count": 5,
   "id": "b0672eb3",
   "metadata": {},
   "outputs": [
    {
     "name": "stdout",
     "output_type": "stream",
     "text": [
      "[0 1 2]\n",
      "[[0]\n",
      " [1]\n",
      " [2]]\n"
     ]
    }
   ],
   "source": [
    "a = np.arange(3)\n",
    "b = np.arange(3)[:,np.newaxis]\n",
    "\n",
    "print(a)\n",
    "print(b)"
   ]
  },
  {
   "cell_type": "code",
   "execution_count": null,
   "id": "8788b694",
   "metadata": {},
   "outputs": [
    {
     "data": {
      "text/plain": [
       "array([[0, 1, 2],\n",
       "       [1, 2, 3],\n",
       "       [2, 3, 4]])"
      ]
     },
     "execution_count": 6,
     "metadata": {},
     "output_type": "execute_result"
    }
   ],
   "source": [
    "a + b"
   ]
  },
  {
   "cell_type": "code",
   "execution_count": 3,
   "id": "28ed1f0a",
   "metadata": {},
   "outputs": [
    {
     "data": {
      "text/plain": [
       "(2, 3)"
      ]
     },
     "execution_count": 3,
     "metadata": {},
     "output_type": "execute_result"
    }
   ],
   "source": [
    "#Ejemplos de Broadcasting\n",
    "import numpy as np \n",
    "\n",
    "#Ejemplo 1\n",
    "M = np.ones((2, 3))\n",
    "a = np.arange(3)\n",
    "\n",
    "M.shape\n"
   ]
  },
  {
   "cell_type": "code",
   "execution_count": 4,
   "id": "d89f6977",
   "metadata": {},
   "outputs": [
    {
     "data": {
      "text/plain": [
       "(3,)"
      ]
     },
     "execution_count": 4,
     "metadata": {},
     "output_type": "execute_result"
    }
   ],
   "source": [
    "a.shape"
   ]
  },
  {
   "cell_type": "code",
   "execution_count": 5,
   "id": "678cdc1a",
   "metadata": {},
   "outputs": [
    {
     "data": {
      "text/plain": [
       "array([[1., 2., 3.],\n",
       "       [1., 2., 3.]])"
      ]
     },
     "execution_count": 5,
     "metadata": {},
     "output_type": "execute_result"
    }
   ],
   "source": [
    "M+a"
   ]
  },
  {
   "cell_type": "code",
   "execution_count": 11,
   "id": "67b60a7f",
   "metadata": {},
   "outputs": [
    {
     "name": "stdout",
     "output_type": "stream",
     "text": [
      "a = \n",
      " [[0]\n",
      " [1]\n",
      " [2]]\n",
      "#############\n",
      "b = \n",
      " [0 1 2]\n",
      "#############\n",
      "a + b = \n",
      " [[0 1 2]\n",
      " [1 2 3]\n",
      " [2 3 4]]\n"
     ]
    }
   ],
   "source": [
    "#Ejemplo 2 \n",
    "a = np.arange(3).reshape(3, 1)\n",
    "b = np.arange(3)\n",
    "print(\"a = \\n\", a)\n",
    "print(\"#############\")\n",
    "print(\"b = \\n\", b)\n",
    "print(\"#############\")\n",
    "print(\"a + b = \\n\", a + b)"
   ]
  },
  {
   "cell_type": "code",
   "execution_count": 4,
   "id": "7115c762",
   "metadata": {},
   "outputs": [],
   "source": [
    "#Gráficando función bidimencional\n",
    "#x & y tienen 50 pasos desde 0 hasta 5\n",
    "\n",
    "x = np.linspace(0, 5, 50)\n",
    "y = np.linspace(0, 5, 50)[:,np.newaxis]\n",
    "\n",
    "z = np.sin(x) ** 10 + np.cos(10 + y * x) * np.cos(x)"
   ]
  },
  {
   "cell_type": "code",
   "execution_count": 5,
   "id": "d56d1b57",
   "metadata": {},
   "outputs": [
    {
     "data": {
      "text/plain": [
       "<matplotlib.colorbar.Colorbar at 0x1fced791940>"
      ]
     },
     "execution_count": 5,
     "metadata": {},
     "output_type": "execute_result"
    },
    {
     "data": {
      "image/png": "[encoded data removed]",
      "text/plain": [
       "<Figure size 640x480 with 2 Axes>"
      ]
     },
     "metadata": {},
     "output_type": "display_data"
    }
   ],
   "source": [
    "%matplotlib inline\n",
    "import matplotlib.pyplot as plt\n",
    "\n",
    "plt.imshow(z, origin = 'lower', extent = [0, 5, 0, 5])\n",
    "plt.colorbar()"
   ]
  },
  {
   "cell_type": "code",
   "execution_count": 7,
   "id": "5dd2e3a1",
   "metadata": {},
   "outputs": [
    {
     "data": {
      "text/plain": [
       "(100, 2)"
      ]
     },
     "execution_count": 7,
     "metadata": {},
     "output_type": "execute_result"
    }
   ],
   "source": [
    "import numpy as np\n",
    "\n",
    "mean = [0, 0]\n",
    "cov =[[1, 2],\n",
    "      [2, 5]]\n",
    "rng = np.random.default_rng(seed = 1701)\n",
    "x = rng.multivariate_normal(mean, cov, 100)\n",
    "x.shape"
   ]
  },
  {
   "cell_type": "code",
   "execution_count": 14,
   "id": "cde7235b",
   "metadata": {},
   "outputs": [
    {
     "data": {
      "text/plain": [
       "<matplotlib.collections.PathCollection at 0x1fced792510>"
      ]
     },
     "execution_count": 14,
     "metadata": {},
     "output_type": "execute_result"
    },
    {
     "data": {
      "image/png": "[encoded data removed]",
      "text/plain": [
       "<Figure size 640x480 with 1 Axes>"
      ]
     },
     "metadata": {},
     "output_type": "display_data"
    }
   ],
   "source": [
    "%matplotlib inline\n",
    "import matplotlib.pyplot as plt\n",
    "\n",
    "#plt.style.use('')\n",
    "\n",
    "plt.scatter(x[:,0], x[:,1])"
   ]
  },
  {
   "cell_type": "code",
   "execution_count": 15,
   "id": "e7f0e3cd",
   "metadata": {},
   "outputs": [
    {
     "data": {
      "text/plain": [
       "array([53, 32, 65, 58, 22, 46,  6,  8, 45, 82,  0, 89, 90, 67, 56, 69,  3,\n",
       "       13, 64, 91], dtype=int32)"
      ]
     },
     "execution_count": 15,
     "metadata": {},
     "output_type": "execute_result"
    }
   ],
   "source": [
    "#Seleccionaremos 20 puntos aleatoriamente sin repeticiones\n",
    "\n",
    "indices = np.random.choice(x.shape[0], 20, replace = False)\n",
    "indices"
   ]
  },
  {
   "cell_type": "code",
   "execution_count": 20,
   "id": "65d7600b",
   "metadata": {},
   "outputs": [
    {
     "data": {
      "text/plain": [
       "array([[-0.53093583, -0.92656742],\n",
       "       [-0.31775029, -1.65390211],\n",
       "       [-0.01724047, -1.80000367],\n",
       "       [-0.92467337, -3.55774659],\n",
       "       [-0.73169637, -2.90312431],\n",
       "       [-0.61460481, -1.37887074],\n",
       "       [-0.47066423, -1.44547127],\n",
       "       [-1.08907006, -3.46018442],\n",
       "       [ 0.88354997,  0.66434241],\n",
       "       [-0.52955419, -0.65670086],\n",
       "       [-1.62463889, -3.56075846],\n",
       "       [ 1.31147681,  2.14585053],\n",
       "       [-0.45174395, -0.8154212 ],\n",
       "       [-1.73765226, -2.83693248],\n",
       "       [-0.1196715 ,  0.19687476],\n",
       "       [ 0.44709172,  3.67987038],\n",
       "       [ 0.64885507, -0.08691004],\n",
       "       [-1.29908043, -4.52178834],\n",
       "       [ 0.38387167,  1.71100202],\n",
       "       [-0.3107856 , -1.10891772],\n",
       "       [-0.91257188, -0.30854542],\n",
       "       [ 0.5337352 , -0.26901087],\n",
       "       [-1.52623661, -2.95210288],\n",
       "       [-1.08402249, -0.95667816],\n",
       "       [-0.4761756 , -0.54005174],\n",
       "       [ 0.79244133,  0.65936333],\n",
       "       [-0.75613286, -2.21092725],\n",
       "       [ 1.11197399,  2.89823567],\n",
       "       [-0.02006941, -1.08090641],\n",
       "       [ 0.09768378, -2.02200687],\n",
       "       [ 0.94257729,  2.64611478],\n",
       "       [ 1.46842518,  2.31553775],\n",
       "       [-1.10804468, -1.30293275],\n",
       "       [-0.3636628 , -1.57072369],\n",
       "       [-3.05372128, -6.8138661 ],\n",
       "       [-0.55809955, -1.36602905],\n",
       "       [-0.46564165, -0.6008742 ],\n",
       "       [-1.26092638, -2.91903277],\n",
       "       [ 1.96501447,  3.67768626],\n",
       "       [-0.60148875, -0.86590346],\n",
       "       [ 1.4484938 ,  3.08252634],\n",
       "       [ 0.13763498,  0.89315908],\n",
       "       [-0.80299009, -2.24177257],\n",
       "       [-0.90595852, -0.90052243],\n",
       "       [-1.98312401, -5.33163921],\n",
       "       [-0.98578758, -1.4884474 ],\n",
       "       [ 0.25381253, -0.43393991],\n",
       "       [-0.0567962 , -0.41449604],\n",
       "       [ 0.44069525,  1.85528973],\n",
       "       [-0.14725059,  2.43662744],\n",
       "       [-0.31637379, -2.0141412 ],\n",
       "       [ 0.96286075,  2.13910803],\n",
       "       [ 0.63577475,  1.86900936],\n",
       "       [-1.36594242, -1.13345145],\n",
       "       [ 0.70819115,  1.12511187],\n",
       "       [-0.05132534,  2.54886465],\n",
       "       [-0.13340043, -1.34137548],\n",
       "       [-0.07123412, -0.48360171],\n",
       "       [-0.59853167, -4.548356  ],\n",
       "       [-0.22583842,  1.09766826],\n",
       "       [-1.1877855 , -1.04382985],\n",
       "       [-0.77048139,  0.02700236],\n",
       "       [-3.00455252, -5.49353471],\n",
       "       [ 0.35651535,  0.45597188],\n",
       "       [-0.16368261, -0.70443561],\n",
       "       [ 0.21499544, -1.65910055],\n",
       "       [ 0.80864564,  2.23272919],\n",
       "       [-0.02578658, -0.61620068],\n",
       "       [ 0.1829916 ,  0.33934145],\n",
       "       [-0.43112827, -1.32571577],\n",
       "       [-1.25535857, -3.12405357],\n",
       "       [ 2.16614535,  4.40087151],\n",
       "       [-0.41258955,  0.0415766 ],\n",
       "       [ 0.48548448,  0.93325984],\n",
       "       [ 0.68284448,  0.65744874],\n",
       "       [ 0.36786277, -0.05737585],\n",
       "       [-0.04817179,  0.09067163],\n",
       "       [ 0.70860896,  2.02900242],\n",
       "       [ 1.77343038,  3.3600133 ],\n",
       "       [ 0.12880168,  2.02607795],\n",
       "       [ 1.28465774,  4.04292595],\n",
       "       [-1.43132623, -2.57730695],\n",
       "       [-0.45871681, -4.08856389],\n",
       "       [ 1.03171729,  1.41180372],\n",
       "       [-1.92096616, -4.87442634],\n",
       "       [ 2.43011022,  3.69435937],\n",
       "       [ 1.18146972,  0.85006905],\n",
       "       [-0.19061021, -0.3193118 ],\n",
       "       [ 0.17771817,  0.72982159],\n",
       "       [-1.8338135 , -3.85330342],\n",
       "       [ 0.15913375, -0.11986282],\n",
       "       [-1.78348731, -4.13484508],\n",
       "       [ 1.44364747,  2.84635358],\n",
       "       [ 0.56370863,  1.5260572 ],\n",
       "       [-0.38162144, -1.79174082],\n",
       "       [-1.02363584, -2.26974357],\n",
       "       [ 1.47101462,  3.74775357],\n",
       "       [-0.51084933,  0.51445827],\n",
       "       [-0.17588256,  1.81524133],\n",
       "       [-1.73963711, -3.95034541]])"
      ]
     },
     "execution_count": 20,
     "metadata": {},
     "output_type": "execute_result"
    }
   ],
   "source": [
    "x"
   ]
  },
  {
   "cell_type": "code",
   "execution_count": 16,
   "id": "2fbd54f6",
   "metadata": {},
   "outputs": [
    {
     "data": {
      "text/plain": [
       "(20, 2)"
      ]
     },
     "execution_count": 16,
     "metadata": {},
     "output_type": "execute_result"
    }
   ],
   "source": [
    "selection = x[indices] #Aquí la indexación elegante\n",
    "selection.shape "
   ]
  },
  {
   "cell_type": "code",
   "execution_count": 17,
   "id": "548a9d3a",
   "metadata": {},
   "outputs": [
    {
     "data": {
      "text/plain": [
       "<matplotlib.collections.PathCollection at 0x1fcefe1dbd0>"
      ]
     },
     "execution_count": 17,
     "metadata": {},
     "output_type": "execute_result"
    },
    {
     "data": {
      "image/png": "[encoded data removed]",
      "text/plain": [
       "<Figure size 640x480 with 1 Axes>"
      ]
     },
     "metadata": {},
     "output_type": "display_data"
    }
   ],
   "source": [
    "#Graficamos los puntos seleccionados y sobre gráficar circulos grandes en la localización de los puntos seleccionados\n",
    "\n",
    "plt.scatter(x[:, 0], x[:, 1], alpha = 0.3)\n",
    "plt.scatter(selection[:, 0], selection[:, 1],\n",
    "            facecolor = 'none', edgecolors = 'black', s = 200)"
   ]
  },
  {
   "cell_type": "code",
   "execution_count": 2,
   "id": "9df7bd96",
   "metadata": {},
   "outputs": [],
   "source": [
    "#Binning Data\n",
    "import numpy as np\n",
    "rng = np.random.default_rng(seed=1701)\n",
    "x = rng.normal(size=100)\n",
    "\n",
    "#Calcular el histograma por un lado\n",
    "bins = np.linspace(-5, 5, 20)\n",
    "counts = np.zeros_like(bins)\n",
    "\n",
    "#Encontrar el bin apropiado para cada x\n",
    "i = np.searchsorted(bins, x)\n",
    "\n",
    "#Agregar 1 a cada uno de esos binds\n",
    "\n",
    "np.add.at(counts, i, 1)"
   ]
  },
  {
   "cell_type": "code",
   "execution_count": 4,
   "id": "767aab38",
   "metadata": {},
   "outputs": [
    {
     "data": {
      "text/plain": [
       "[<matplotlib.lines.Line2D at 0x28871242710>]"
      ]
     },
     "execution_count": 4,
     "metadata": {},
     "output_type": "execute_result"
    },
    {
     "data": {
      "image/png": "[encoded data removed]",
      "text/plain": [
       "<Figure size 640x480 with 1 Axes>"
      ]
     },
     "metadata": {},
     "output_type": "display_data"
    }
   ],
   "source": [
    "#Gráficar los resultados\n",
    "%matplotlib inline\n",
    "import matplotlib.pyplot as plt\n",
    "\n",
    "plt.plot(bins, counts, drawstyle = 'steps')"
   ]
  },
  {
   "cell_type": "code",
   "execution_count": 5,
   "id": "1a5d9ea5",
   "metadata": {},
   "outputs": [
    {
     "data": {
      "text/plain": [
       "(array([ 0.,  0.,  0.,  0.,  0.,  1.,  7., 15., 13., 12., 32.,  7.,  8.,\n",
       "         2.,  2.,  1.,  0.,  0.,  0.]),\n",
       " array([-5.        , -4.47368421, -3.94736842, -3.42105263, -2.89473684,\n",
       "        -2.36842105, -1.84210526, -1.31578947, -0.78947368, -0.26315789,\n",
       "         0.26315789,  0.78947368,  1.31578947,  1.84210526,  2.36842105,\n",
       "         2.89473684,  3.42105263,  3.94736842,  4.47368421,  5.        ]),\n",
       " [<matplotlib.patches.Polygon at 0x288712ea660>])"
      ]
     },
     "execution_count": 5,
     "metadata": {},
     "output_type": "execute_result"
    },
    {
     "data": {
      "image/png": "[encoded data removed]",
      "text/plain": [
       "<Figure size 640x480 with 1 Axes>"
      ]
     },
     "metadata": {},
     "output_type": "display_data"
    }
   ],
   "source": [
    "plt.hist(x, bins, histtype = 'step')"
   ]
  },
  {
   "cell_type": "code",
   "execution_count": 6,
   "id": "4335c7d9",
   "metadata": {},
   "outputs": [
    {
     "data": {
      "text/plain": [
       "[1, 1, 2, 3, 4, 5, 6, 9]"
      ]
     },
     "execution_count": 6,
     "metadata": {},
     "output_type": "execute_result"
    }
   ],
   "source": [
    " L = [3, 1, 4, 1, 5, 9, 2, 6]\n",
    "sorted(L)"
   ]
  },
  {
   "cell_type": "code",
   "execution_count": 7,
   "id": "0294d0bf",
   "metadata": {},
   "outputs": [
    {
     "name": "stdout",
     "output_type": "stream",
     "text": [
      "[1, 1, 2, 3, 4, 5, 6, 9]\n"
     ]
    }
   ],
   "source": [
    "L.sort()\n",
    "\n",
    "print(L)"
   ]
  },
  {
   "cell_type": "code",
   "execution_count": 8,
   "id": "64e694b8",
   "metadata": {},
   "outputs": [
    {
     "data": {
      "text/plain": [
       "array([1, 2, 3, 4, 5])"
      ]
     },
     "execution_count": 8,
     "metadata": {},
     "output_type": "execute_result"
    }
   ],
   "source": [
    "x = np.array([2, 1, 4, 3, 5])\n",
    "\n",
    "np.sort(x)"
   ]
  },
  {
   "cell_type": "code",
   "execution_count": 9,
   "id": "dc5bf45a",
   "metadata": {},
   "outputs": [
    {
     "name": "stdout",
     "output_type": "stream",
     "text": [
      "[1 0 3 2 4]\n"
     ]
    }
   ],
   "source": [
    "x = np.array([2, 1, 4, 3, 5])\n",
    "\n",
    "i = np.argsort(x)\n",
    "\n",
    "print(i)"
   ]
  },
  {
   "cell_type": "code",
   "execution_count": 10,
   "id": "9ae15f8e",
   "metadata": {},
   "outputs": [
    {
     "data": {
      "text/plain": [
       "array([1, 2, 3, 4, 5])"
      ]
     },
     "execution_count": 10,
     "metadata": {},
     "output_type": "execute_result"
    }
   ],
   "source": [
    "x[i]"
   ]
  },
  {
   "cell_type": "markdown",
   "id": "c1390d64",
   "metadata": {},
   "source": [
    "## K-Nearest Neighbors (KNN)"
   ]
  },
  {
   "cell_type": "code",
   "execution_count": 3,
   "id": "3368d8e6",
   "metadata": {},
   "outputs": [],
   "source": [
    "import numpy as np\n",
    "rng = np.random.default_rng(seed=1701)\n",
    "x = rng.random((10,2))"
   ]
  },
  {
   "cell_type": "code",
   "execution_count": 4,
   "id": "08299067",
   "metadata": {},
   "outputs": [
    {
     "data": {
      "text/plain": [
       "<matplotlib.collections.PathCollection at 0x2129ff352b0>"
      ]
     },
     "execution_count": 4,
     "metadata": {},
     "output_type": "execute_result"
    },
    {
     "data": {
      "image/png": "[encoded data removed]",
      "text/plain": [
       "<Figure size 640x480 with 1 Axes>"
      ]
     },
     "metadata": {},
     "output_type": "display_data"
    }
   ],
   "source": [
    "%matplotlib inline\n",
    "import matplotlib.pyplot as plt\n",
    "plt.scatter(x[:,0], x[:,1], s=100)"
   ]
  },
  {
   "cell_type": "code",
   "execution_count": 5,
   "id": "6f70e53c",
   "metadata": {},
   "outputs": [],
   "source": [
    "dist_sqrt = np.sum((x[:, np.newaxis] -x[np.newaxis, :]) ** 2, axis=-1)"
   ]
  },
  {
   "cell_type": "code",
   "execution_count": 6,
   "id": "e8561686",
   "metadata": {},
   "outputs": [
    {
     "data": {
      "text/plain": [
       "(10, 10, 2)"
      ]
     },
     "execution_count": 6,
     "metadata": {},
     "output_type": "execute_result"
    }
   ],
   "source": [
    "#Para cada par de puntos, calcular la diferencia entre sus cordenadas\n",
    "\n",
    "diferencias = x[:, np.newaxis] - x[np.newaxis,:]\n",
    "diferencias.shape"
   ]
  },
  {
   "cell_type": "code",
   "execution_count": 7,
   "id": "6706e86b",
   "metadata": {},
   "outputs": [
    {
     "data": {
      "text/plain": [
       "(10, 10, 2)"
      ]
     },
     "execution_count": 7,
     "metadata": {},
     "output_type": "execute_result"
    }
   ],
   "source": [
    "#Elevar al cuadrado la diferencia de coordenadas\n",
    "sq_diferencias = diferencias ** 2\n",
    "sq_diferencias.shape"
   ]
  },
  {
   "cell_type": "code",
   "execution_count": 8,
   "id": "8a9b45ec",
   "metadata": {},
   "outputs": [
    {
     "data": {
      "text/plain": [
       "(10, 10)"
      ]
     },
     "execution_count": 8,
     "metadata": {},
     "output_type": "execute_result"
    }
   ],
   "source": [
    "#Sumar las diferencias de coordenadas para obtener la distancia al cuadrado\n",
    "dist_sq = sq_diferencias.sum(-1)\n",
    "dist_sq.shape"
   ]
  },
  {
   "cell_type": "code",
   "execution_count": 9,
   "id": "a9475ce9",
   "metadata": {},
   "outputs": [
    {
     "data": {
      "text/plain": [
       "array([0., 0., 0., 0., 0., 0., 0., 0., 0., 0.])"
      ]
     },
     "execution_count": 9,
     "metadata": {},
     "output_type": "execute_result"
    }
   ],
   "source": [
    "dist_sq.diagonal()"
   ]
  },
  {
   "cell_type": "code",
   "execution_count": 10,
   "id": "46aa4aba",
   "metadata": {},
   "outputs": [
    {
     "name": "stdout",
     "output_type": "stream",
     "text": [
      "[[0 6 3 1 2 7 9 4 5 8]\n",
      " [1 2 6 9 0 3 4 7 5 8]\n",
      " [2 1 9 6 4 3 0 7 5 8]\n",
      " [3 0 6 1 2 9 4 7 5 8]\n",
      " [4 9 7 2 1 6 0 3 5 8]\n",
      " [5 7 8 0 6 4 1 9 2 3]\n",
      " [6 1 0 2 3 9 7 4 5 8]\n",
      " [7 4 9 6 1 5 2 0 3 8]\n",
      " [8 5 0 6 7 3 1 4 2 9]\n",
      " [9 2 4 1 6 7 0 3 5 8]]\n"
     ]
    }
   ],
   "source": [
    "nearest = np.argsort(dist_sq, axis=1)\n",
    "print(nearest)"
   ]
  },
  {
   "cell_type": "code",
   "execution_count": 11,
   "id": "124edcdf",
   "metadata": {},
   "outputs": [],
   "source": [
    "k = 2\n",
    "\n",
    "nearest_partition = np.argpartition(dist_sq, k +1, axis=1)"
   ]
  },
  {
   "cell_type": "code",
   "execution_count": 15,
   "id": "3d440406",
   "metadata": {},
   "outputs": [
    {
     "data": {
      "image/png": "[encoded data removed]",
      "text/plain": [
       "<Figure size 640x480 with 1 Axes>"
      ]
     },
     "metadata": {},
     "output_type": "display_data"
    }
   ],
   "source": [
    "plt.scatter(x[:, 0], x[:,1], s = 100)\n",
    "\n",
    "#Dibujar lineas desde cada punto hasta sus dos vecinos más cercanos\n",
    "k = 2\n",
    "\n",
    "for i in range(x.shape[0]):\n",
    "    for j in nearest_partition[i, :k+1]:\n",
    "        #Gráficar una linea desde x[i] hasta x[j]\n",
    "        #Usar algun zip magico para hacerlo suceder\n",
    "        plt.plot(*zip(x[j], x[i]), color = 'red')"
   ]
  },
  {
   "cell_type": "code",
   "execution_count": null,
   "id": "a8c1e3b9",
   "metadata": {},
   "outputs": [],
   "source": []
  }
 ],
 "metadata": {
  "kernelspec": {
   "display_name": "Python 3",
   "language": "python",
   "name": "python3"
  },
  "language_info": {
   "codemirror_mode": {
    "name": "ipython",
    "version": 3
   },
   "file_extension": ".py",
   "mimetype": "text/x-python",
   "name": "python",
   "nbconvert_exporter": "python",
   "pygments_lexer": "ipython3",
   "version": "3.13.1"
  }
 },
 "nbformat": 4,
 "nbformat_minor": 5
}
